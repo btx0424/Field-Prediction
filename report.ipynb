{
 "metadata": {
  "language_info": {
   "codemirror_mode": {
    "name": "ipython",
    "version": 3
   },
   "file_extension": ".py",
   "mimetype": "text/x-python",
   "name": "python",
   "nbconvert_exporter": "python",
   "pygments_lexer": "ipython3",
   "version": 3
  },
  "orig_nbformat": 2
 },
 "nbformat": 4,
 "nbformat_minor": 2,
 "cells": [
  {
   "source": [
    "# Inspection 2:\n",
    "## Flow Field Prediction\n",
    "\n",
    "## 1. Problem Definition\n",
    "\n",
    "Formally, the problem is defined as:\n",
    "\n",
    "> 1. Solution of RANS: $u$.\n",
    "> 2. Prediction: $\\hat{u}=NN(A, \\alpha; \\theta)$\n",
    "> 3. Minimize the error: $\\theta=\\arg\\min L(u, \\hat{u})$\n",
    "\n",
    "where $NN(\\cdot \\ ,\\ \\cdot \\ ;\\ \\theta)$ is a neural netwrok parameterized by $\\theta$.\n",
    "\n",
    "## 2. Discretization\n",
    "\n",
    "The **descritazation** of airfoil $A$ and solution $u$ can be in the following three forms:\n",
    "\n"
   ],
   "cell_type": "markdown",
   "metadata": {}
  },
  {
   "source": [
    "### Contour\n",
    "* The shape is given by points sampled from its contour.\n",
    "* Basically a vector in $R^n$."
   ],
   "cell_type": "markdown",
   "metadata": {}
  },
  {
   "source": [
    "### Cartesian\n",
    "* Regularly sampled quantities.\n",
    "* Similar to images. Can be stored and processed as n-d arrays.\n",
    "* Lies in $R^{N\\times M\\times K}$."
   ],
   "cell_type": "markdown",
   "metadata": {}
  },
  {
   "source": [
    "### Structured Mesh\n",
    "* Regular connectivity.\n",
    "* Obtained through transforms.\n",
    "* Irregular in physical plane, regular in computational plane.\n",
    "* Can also be stored as n-d arrays.\n",
    "\n",
    "The dataset we used in experiment is provided by the Dept. of Aerospace Engineering, SUSTech."
   ],
   "cell_type": "markdown",
   "metadata": {}
  },
  {
   "source": [
    "### Unstructured Mesh\n",
    "* Irregular connectivity.\n",
    "* $G=\\{V, \\ E\\}$"
   ],
   "cell_type": "markdown",
   "metadata": {}
  },
  {
   "source": [
    "## 3. Experiments\n",
    "### 1. Cartesian (Image-to-Image Translation)"
   ],
   "cell_type": "markdown",
   "metadata": {}
  },
  {
   "source": [
    "### 2. Structured Mesh"
   ],
   "cell_type": "markdown",
   "metadata": {}
  },
  {
   "source": [
    "## 4. Limitations\n",
    "1. Normalization\n",
    "2. Limitation of Convolutional Layers\n",
    "3. Generalization"
   ],
   "cell_type": "markdown",
   "metadata": {}
  },
  {
   "source": [
    "## 5. Miscellaneous\n",
    "1. Lattice Boltzmann Fluid Solver in Taichi\n",
    "2. A Dynamical System View of Neural Newtworks\n",
    "3. Coordinate-based Networks"
   ],
   "cell_type": "markdown",
   "metadata": {}
  },
  {
   "source": [
    "* **Theory**: 50%\n",
    "1. Computational Fluid Dynamics\n",
    "2. Deep Learning\n",
    "    * Architecture\n",
    "    * Learning Process & Behavior \n",
    "\n",
    "* **Experiments**: 50%\n",
    "1. Processing data: 30%\n",
    "2. Implementing models: 20%\n",
    "3. Tuning: 30%\n",
    "4. Empirical verifications and exploring: 20%"
   ],
   "cell_type": "markdown",
   "metadata": {}
  }
 ]
}